{
 "cells": [
  {
   "cell_type": "code",
   "execution_count": 155,
   "metadata": {},
   "outputs": [
    {
     "name": "stdout",
     "output_type": "stream",
     "text": [
      "2.2.0+cpu\n"
     ]
    }
   ],
   "source": [
    "import torch\n",
    "import torch.nn as nn\n",
    "import numpy as np\n",
    "import matplotlib.pyplot as plt\n",
    "import pandas as pd\n",
    "print(torch .__version__)"
   ]
  },
  {
   "cell_type": "code",
   "execution_count": 156,
   "metadata": {},
   "outputs": [
    {
     "data": {
      "text/plain": [
       "tensor(7)"
      ]
     },
     "execution_count": 156,
     "metadata": {},
     "output_type": "execute_result"
    }
   ],
   "source": [
    "scalar = torch.tensor(7)\n",
    "scalar\n"
   ]
  },
  {
   "cell_type": "code",
   "execution_count": 157,
   "metadata": {},
   "outputs": [
    {
     "data": {
      "text/plain": [
       "tensor([10, 10])"
      ]
     },
     "execution_count": 157,
     "metadata": {},
     "output_type": "execute_result"
    }
   ],
   "source": [
    "vector = torch.tensor([10, 10])\n",
    "vector"
   ]
  },
  {
   "cell_type": "code",
   "execution_count": 158,
   "metadata": {},
   "outputs": [
    {
     "name": "stdout",
     "output_type": "stream",
     "text": [
      "tensor([[ 7,  8],\n",
      "        [ 9, 10]])\n",
      "torch.Size([2, 2])\n",
      "tensor([7, 8])\n"
     ]
    }
   ],
   "source": [
    "MATRIX = torch.tensor([[7, 8], [9, 10]])\n",
    "print(MATRIX)\n",
    "print(MATRIX.shape)\n",
    "print(MATRIX[0])"
   ]
  },
  {
   "cell_type": "code",
   "execution_count": 159,
   "metadata": {},
   "outputs": [
    {
     "name": "stdout",
     "output_type": "stream",
     "text": [
      "tensor([[[ 1,  2,  3],\n",
      "         [ 4,  5,  6]],\n",
      "\n",
      "        [[ 7,  8,  9],\n",
      "         [10, 11, 12]],\n",
      "\n",
      "        [[13, 14, 15],\n",
      "         [16, 17, 18]]])\n",
      "torch.Size([3, 2, 3])\n",
      "tensor([[1, 2, 3],\n",
      "        [4, 5, 6]])\n"
     ]
    }
   ],
   "source": [
    "TENSOR = torch.tensor([[[1, 2, 3], [4, 5, 6]], [[7, 8, 9], [10, 11, 12]], [[13, 14, 15], [16, 17, 18]]])\n",
    "print(TENSOR)\n",
    "print(TENSOR.shape)\n",
    "print(TENSOR[0])"
   ]
  },
  {
   "cell_type": "code",
   "execution_count": 160,
   "metadata": {},
   "outputs": [
    {
     "name": "stdout",
     "output_type": "stream",
     "text": [
      "number of dimensions in scalar: 0\n",
      "number of dimensions in vector: 1\n",
      "number of dimensions in matrix: 2\n",
      "number of dimensions in tensor: 3\n"
     ]
    }
   ],
   "source": [
    "print(f'number of dimensions in scalar: {scalar.ndim}\\nnumber of dimensions in vector: {vector.ndim}\\nnumber of dimensions in matrix: {MATRIX.ndim}\\nnumber of dimensions in tensor: {TENSOR.ndim}')"
   ]
  },
  {
   "cell_type": "code",
   "execution_count": 161,
   "metadata": {},
   "outputs": [
    {
     "name": "stdout",
     "output_type": "stream",
     "text": [
      "tensor([[0.5709, 0.9866, 0.9844, 0.2652],\n",
      "        [0.9370, 0.9681, 0.9853, 0.9111],\n",
      "        [0.3213, 0.3343, 0.6377, 0.8674]])\n",
      "2\n"
     ]
    }
   ],
   "source": [
    "random_tensor = torch.rand(3, 4)\n",
    "print(random_tensor)\n",
    "print(random_tensor.ndim)\n"
   ]
  },
  {
   "cell_type": "code",
   "execution_count": 162,
   "metadata": {},
   "outputs": [
    {
     "data": {
      "text/plain": [
       "tensor([[[0.5248, 0.1470, 0.9931,  ..., 0.1003, 0.6285, 0.3198],\n",
       "         [0.9892, 0.5014, 0.3128,  ..., 0.0050, 0.9545, 0.5809],\n",
       "         [0.6748, 0.0590, 0.5837,  ..., 0.5444, 0.7273, 0.8992],\n",
       "         ...,\n",
       "         [0.3399, 0.1322, 0.3812,  ..., 0.6562, 0.3326, 0.8186],\n",
       "         [0.9910, 0.5754, 0.7920,  ..., 0.1505, 0.9229, 0.3777],\n",
       "         [0.9726, 0.7468, 0.8985,  ..., 0.2317, 0.8266, 0.2248]],\n",
       "\n",
       "        [[0.6136, 0.5979, 0.4012,  ..., 0.1703, 0.1286, 0.2280],\n",
       "         [0.7135, 0.4573, 0.7626,  ..., 0.8315, 0.4384, 0.5472],\n",
       "         [0.1882, 0.1540, 0.6655,  ..., 0.6485, 0.7943, 0.6198],\n",
       "         ...,\n",
       "         [0.7926, 0.9022, 0.1076,  ..., 0.6306, 0.2430, 0.1641],\n",
       "         [0.8756, 0.2263, 0.6259,  ..., 0.6586, 0.3609, 0.4322],\n",
       "         [0.8399, 0.2917, 0.1773,  ..., 0.2842, 0.9580, 0.3246]],\n",
       "\n",
       "        [[0.4800, 0.8064, 0.0277,  ..., 0.3433, 0.2971, 0.9658],\n",
       "         [0.6699, 0.6998, 0.5817,  ..., 0.8769, 0.0607, 0.7077],\n",
       "         [0.1249, 0.1978, 0.5767,  ..., 0.2317, 0.3618, 0.1671],\n",
       "         ...,\n",
       "         [0.1548, 0.0516, 0.9007,  ..., 0.6221, 0.7248, 0.9616],\n",
       "         [0.8738, 0.8850, 0.7677,  ..., 0.0229, 0.8829, 0.1997],\n",
       "         [0.9032, 0.7585, 0.4872,  ..., 0.6557, 0.7365, 0.4122]]])"
      ]
     },
     "execution_count": 162,
     "metadata": {},
     "output_type": "execute_result"
    }
   ],
   "source": [
    "#create a random tensor with similiar shape to image tensor\n",
    "randim_image_size_tensor = torch.rand(size=(3, 224, 224))\n",
    "randim_image_size_tensor"
   ]
  },
  {
   "cell_type": "code",
   "execution_count": 163,
   "metadata": {},
   "outputs": [
    {
     "data": {
      "text/plain": [
       "tensor([[0., 0., 0., 0.],\n",
       "        [0., 0., 0., 0.],\n",
       "        [0., 0., 0., 0.]])"
      ]
     },
     "execution_count": 163,
     "metadata": {},
     "output_type": "execute_result"
    }
   ],
   "source": [
    "#tensor with binary values\n",
    "\n",
    "zeros = torch.zeros(3, 4)\n",
    "zeros"
   ]
  },
  {
   "cell_type": "code",
   "execution_count": 164,
   "metadata": {},
   "outputs": [
    {
     "data": {
      "text/plain": [
       "tensor([[0., 0., 0., 0.],\n",
       "        [0., 0., 0., 0.],\n",
       "        [0., 0., 0., 0.]])"
      ]
     },
     "execution_count": 164,
     "metadata": {},
     "output_type": "execute_result"
    }
   ],
   "source": [
    "zeros * random_tensor"
   ]
  },
  {
   "cell_type": "code",
   "execution_count": 165,
   "metadata": {},
   "outputs": [
    {
     "data": {
      "text/plain": [
       "tensor([[1., 1., 1., 1.],\n",
       "        [1., 1., 1., 1.],\n",
       "        [1., 1., 1., 1.]])"
      ]
     },
     "execution_count": 165,
     "metadata": {},
     "output_type": "execute_result"
    }
   ],
   "source": [
    "ones = torch.ones(3, 4)\n",
    "ones"
   ]
  },
  {
   "cell_type": "code",
   "execution_count": 166,
   "metadata": {},
   "outputs": [
    {
     "data": {
      "text/plain": [
       "torch.float32"
      ]
     },
     "execution_count": 166,
     "metadata": {},
     "output_type": "execute_result"
    }
   ],
   "source": [
    "ones.dtype"
   ]
  },
  {
   "cell_type": "code",
   "execution_count": 167,
   "metadata": {},
   "outputs": [
    {
     "data": {
      "text/plain": [
       "torch.float32"
      ]
     },
     "execution_count": 167,
     "metadata": {},
     "output_type": "execute_result"
    }
   ],
   "source": [
    "random_tensor.dtype"
   ]
  },
  {
   "cell_type": "code",
   "execution_count": 168,
   "metadata": {},
   "outputs": [
    {
     "data": {
      "text/plain": [
       "tensor([  0, 200, 400, 600, 800])"
      ]
     },
     "execution_count": 168,
     "metadata": {},
     "output_type": "execute_result"
    }
   ],
   "source": [
    "### Creating a range of tensors and tensor-like\n",
    "\n",
    "linear_tensor = torch.arange(start = 0, end = 1000, step = 200)\n",
    "linear_tensor"
   ]
  },
  {
   "cell_type": "code",
   "execution_count": 169,
   "metadata": {},
   "outputs": [
    {
     "data": {
      "text/plain": [
       "tensor([0, 0, 0, 0, 0])"
      ]
     },
     "execution_count": 169,
     "metadata": {},
     "output_type": "execute_result"
    }
   ],
   "source": [
    "#creating tensors like\n",
    "ten_zeroes = torch.zeros_like(linear_tensor)\n",
    "ten_zeroes"
   ]
  },
  {
   "cell_type": "markdown",
   "metadata": {},
   "source": [
    "# Tensor datatypes\n"
   ]
  },
  {
   "cell_type": "code",
   "execution_count": 170,
   "metadata": {},
   "outputs": [
    {
     "data": {
      "text/plain": [
       "tensor([1., 2., 3.], dtype=torch.float16)"
      ]
     },
     "execution_count": 170,
     "metadata": {},
     "output_type": "execute_result"
    }
   ],
   "source": [
    "float_32_tensor = torch.tensor([1.0, 2.0, 3.0], \n",
    "                                dtype = torch.float32, #specify the data type\n",
    "                                device = 'cpu', #specify the device to store the tensor\n",
    "                                requires_grad = False) #specify if autograd should record operations on the tensor\n",
    "float_16_tensor =float_32_tensor.to(torch.float16)\n",
    "float_16_tensor"
   ]
  },
  {
   "cell_type": "code",
   "execution_count": 171,
   "metadata": {},
   "outputs": [
    {
     "data": {
      "text/plain": [
       "tensor([1., 4., 9.])"
      ]
     },
     "execution_count": 171,
     "metadata": {},
     "output_type": "execute_result"
    }
   ],
   "source": [
    "float_16_tensor * float_32_tensor"
   ]
  },
  {
   "cell_type": "code",
   "execution_count": 172,
   "metadata": {},
   "outputs": [
    {
     "data": {
      "text/plain": [
       "tensor([3, 6, 8], dtype=torch.int32)"
      ]
     },
     "execution_count": 172,
     "metadata": {},
     "output_type": "execute_result"
    }
   ],
   "source": [
    "int_32_tensor = torch.tensor([3, 6, 8], dtype=torch.int32)\n",
    "int_32_tensor"
   ]
  },
  {
   "cell_type": "code",
   "execution_count": 173,
   "metadata": {},
   "outputs": [
    {
     "data": {
      "text/plain": [
       "tensor([ 3., 12., 24.])"
      ]
     },
     "execution_count": 173,
     "metadata": {},
     "output_type": "execute_result"
    }
   ],
   "source": [
    "float_32_tensor * int_32_tensor"
   ]
  },
  {
   "cell_type": "markdown",
   "metadata": {},
   "source": [
    "### Getting information from tensor\n",
    "\n",
    "1. datatype = tensor.datatype\n",
    "2. shape = tensor.shape\n",
    "3. device = tensor.device"
   ]
  },
  {
   "cell_type": "code",
   "execution_count": 174,
   "metadata": {},
   "outputs": [
    {
     "name": "stdout",
     "output_type": "stream",
     "text": [
      "tensor([[0.7090, 0.1108, 0.7925, 0.7085],\n",
      "        [0.9302, 0.5552, 0.2168, 0.1626],\n",
      "        [0.0977, 0.4023, 0.9341, 0.2915]], dtype=torch.float16,\n",
      "       requires_grad=True)\n",
      "torch.float16\n",
      "cpu\n",
      "torch.Size([3, 4])\n"
     ]
    }
   ],
   "source": [
    "some_tensor = torch.rand([3, 4], device='cpu', dtype=torch.float16, requires_grad=True)\n",
    "\n",
    "print(some_tensor)\n",
    "print(some_tensor.dtype)\n",
    "print(some_tensor.device)\n",
    "print(some_tensor.shape)"
   ]
  },
  {
   "cell_type": "code",
   "execution_count": 175,
   "metadata": {},
   "outputs": [
    {
     "name": "stdout",
     "output_type": "stream",
     "text": [
      " Operations on tensors\n",
      "Addition: tensor([5, 7, 9])\n",
      "Subtraction: tensor([-3, -3, -3])\n",
      "Multiplication: tensor([ 4, 10, 18])\n",
      "Division: tensor([0.2500, 0.4000, 0.5000])\n",
      "Matrix Multiplication: 32\n"
     ]
    }
   ],
   "source": [
    "### Tensor operations\n",
    "\n",
    "tensor_1 = torch.tensor([1, 2, 3])\n",
    "tensor_2 = torch.tensor([4, 5, 6])\n",
    "\n",
    "#addition\n",
    "tensor_add = tensor_1 + tensor_2\n",
    "\n",
    "#subtraction\n",
    "tensor_sub = tensor_1 - tensor_2\n",
    "\n",
    "#multiplication\n",
    "tensor_mul = tensor_1 * tensor_2\n",
    "\n",
    "#division\n",
    "tensor_div = tensor_1 / tensor_2\n",
    "\n",
    "#matrix multiplication\n",
    "tensor_matmul = torch.matmul(tensor_1, tensor_2)\n",
    "\n",
    "print(f' Operations on tensors\\nAddition: {tensor_add}\\nSubtraction: {tensor_sub}\\nMultiplication: {tensor_mul}\\nDivision: {tensor_div}\\nMatrix Multiplication: {tensor_matmul}')"
   ]
  },
  {
   "cell_type": "code",
   "execution_count": 176,
   "metadata": {},
   "outputs": [
    {
     "name": "stdout",
     "output_type": "stream",
     "text": [
      "torch.Size([4, 8])\n",
      "torch.Size([4, 8])\n",
      "tensor([[2.1712, 1.8312, 2.3969, 1.8695],\n",
      "        [1.9534, 1.6489, 1.5331, 1.3196],\n",
      "        [2.8434, 2.2700, 2.9321, 2.2443],\n",
      "        [2.6398, 2.0069, 2.6127, 2.0951]])\n",
      "torch.Size([4, 4])\n"
     ]
    }
   ],
   "source": [
    "tensor_2d_1 = torch.rand(4, 8)\n",
    "tensor_2d_2 = torch.rand(4, 8)\n",
    "\n",
    "print(tensor_2d_1.shape)\n",
    "print(tensor_2d_2.shape)\n",
    "\n",
    "#matrix multiplication\n",
    "tensor_2d_matmul = torch.matmul(tensor_2d_1, tensor_2d_2.T)\n",
    "print(tensor_2d_matmul)\n",
    "print(tensor_2d_matmul.shape)"
   ]
  },
  {
   "cell_type": "code",
   "execution_count": 177,
   "metadata": {},
   "outputs": [
    {
     "name": "stdout",
     "output_type": "stream",
     "text": [
      "torch.Size([4, 8])\n",
      "torch.Size([8, 4])\n",
      "tensor([[2.6433, 1.9602, 2.7596, 1.6692],\n",
      "        [2.1322, 2.0365, 2.5201, 1.5328],\n",
      "        [2.9615, 2.7898, 3.5206, 2.1849],\n",
      "        [2.2852, 1.6221, 2.4363, 1.0143]])\n",
      "torch.Size([4, 4])\n"
     ]
    }
   ],
   "source": [
    "tensor_2d_3 = torch.rand(4, 8)\n",
    "tensor_2d_4 = torch.rand(8, 4)\n",
    "\n",
    "print(tensor_2d_3.shape)\n",
    "print(tensor_2d_4.shape)\n",
    "\n",
    "#matrix multiplication\n",
    "tensor_2d_matmul = torch.matmul(tensor_2d_3, tensor_2d_4)\n",
    "print(tensor_2d_matmul)\n",
    "print(tensor_2d_matmul.shape)"
   ]
  },
  {
   "cell_type": "code",
   "execution_count": 178,
   "metadata": {},
   "outputs": [
    {
     "name": "stdout",
     "output_type": "stream",
     "text": [
      "tensor(49.9500)\n",
      "tensor(49950.)\n",
      "tensor(99.9000)\n",
      "tensor(0.)\n",
      "tensor(999)\n",
      "tensor(0)\n",
      "tensor(28.8819)\n"
     ]
    }
   ],
   "source": [
    "# tensor aggregation\n",
    "\n",
    "tensor_agg = torch.arange(0, 100,0.1, dtype=torch.float32)\n",
    "\n",
    "#mean\n",
    "tensor_mean = tensor_agg.mean()\n",
    "print(tensor_mean)\n",
    "\n",
    "\n",
    "#sum\n",
    "tensor_sum = tensor_agg.sum()\n",
    "print(tensor_sum)\n",
    "\n",
    "#max\n",
    "tensor_max = tensor_agg.max()\n",
    "print(tensor_max)\n",
    "\n",
    "#min\n",
    "tensor_min = tensor_agg.min()\n",
    "print(tensor_min)\n",
    "\n",
    "tensir_argmax = torch.argmax(tensor_agg)\n",
    "print(tensir_argmax)\n",
    "\n",
    "tensor_argmin = torch.argmin(tensor_agg)\n",
    "print(tensor_argmin)\n",
    "\n",
    "\n",
    "#standard deviation\n",
    "tensor_std = tensor_agg.std()\n",
    "print(tensor_std)"
   ]
  },
  {
   "cell_type": "markdown",
   "metadata": {},
   "source": [
    "## reshaping tensors, squeeze and unsqueeze\n",
    "\n",
    "Reshaping - reshape input tensor into desired size\n",
    "View - keep the memory size but display resized\n",
    "stacking - combine multiple tensors vertically or horizontally .vstack, .hstack\n",
    "squeeze - remove all 1 shapes from tensor\n",
    "unsqueeze - adds a 1 dimension to a tensor\n",
    "permute - rearrange tensors"
   ]
  },
  {
   "cell_type": "code",
   "execution_count": 179,
   "metadata": {},
   "outputs": [
    {
     "data": {
      "text/plain": [
       "torch.Size([20])"
      ]
     },
     "execution_count": 179,
     "metadata": {},
     "output_type": "execute_result"
    }
   ],
   "source": [
    "x = torch.arange(1.0, 21.0)\n",
    "x.shape"
   ]
  },
  {
   "cell_type": "code",
   "execution_count": 180,
   "metadata": {},
   "outputs": [
    {
     "data": {
      "text/plain": [
       "tensor([[ 1.,  2.,  3.,  4.],\n",
       "        [ 5.,  6.,  7.,  8.],\n",
       "        [ 9., 10., 11., 12.],\n",
       "        [13., 14., 15., 16.],\n",
       "        [17., 18., 19., 20.]])"
      ]
     },
     "execution_count": 180,
     "metadata": {},
     "output_type": "execute_result"
    }
   ],
   "source": [
    "x_reshaped = x.reshape(5, 4)\n",
    "x_reshaped"
   ]
  },
  {
   "cell_type": "code",
   "execution_count": 181,
   "metadata": {},
   "outputs": [
    {
     "data": {
      "text/plain": [
       "tensor([[ 1.,  2.,  3.,  4.,  5.,  6.,  7.,  8.,  9., 10.],\n",
       "        [11., 12., 13., 14., 15., 16., 17., 18., 19., 20.]])"
      ]
     },
     "execution_count": 181,
     "metadata": {},
     "output_type": "execute_result"
    }
   ],
   "source": [
    "x_view = x.view(2, 10)\n",
    "x_view"
   ]
  },
  {
   "cell_type": "code",
   "execution_count": 182,
   "metadata": {},
   "outputs": [
    {
     "name": "stdout",
     "output_type": "stream",
     "text": [
      "x_view: tensor([[100.,   2.,   3.,   4.,   5.,   6.,   7.,   8.,   9.,  10.],\n",
      "        [ 11.,  12.,  13.,  14.,  15.,  16.,  17.,  18.,  19.,  20.]])\n",
      "x: tensor([100.,   2.,   3.,   4.,   5.,   6.,   7.,   8.,   9.,  10.,  11.,  12.,\n",
      "         13.,  14.,  15.,  16.,  17.,  18.,  19.,  20.])\n"
     ]
    }
   ],
   "source": [
    "#shape is by reference\n",
    "\n",
    "x_view[0, 0] = 100\n",
    "print(f'x_view: {x_view}\\nx: {x}')"
   ]
  },
  {
   "cell_type": "code",
   "execution_count": 183,
   "metadata": {},
   "outputs": [
    {
     "data": {
      "text/plain": [
       "tensor([[100.,   2.,   3.,   4.,   5.,   6.,   7.,   8.,   9.,  10.,  11.,  12.,\n",
       "          13.,  14.,  15.,  16.,  17.,  18.,  19.,  20.],\n",
       "        [100.,   2.,   3.,   4.,   5.,   6.,   7.,   8.,   9.,  10.,  11.,  12.,\n",
       "          13.,  14.,  15.,  16.,  17.,  18.,  19.,  20.]])"
      ]
     },
     "execution_count": 183,
     "metadata": {},
     "output_type": "execute_result"
    }
   ],
   "source": [
    "x_vstack = torch.vstack([x, x])\n",
    "x_vstack"
   ]
  },
  {
   "cell_type": "code",
   "execution_count": 184,
   "metadata": {},
   "outputs": [
    {
     "data": {
      "text/plain": [
       "tensor([100.,   2.,   3.,   4.,   5.,   6.,   7.,   8.,   9.,  10.,  11.,  12.,\n",
       "         13.,  14.,  15.,  16.,  17.,  18.,  19.,  20., 100.,   2.,   3.,   4.,\n",
       "          5.,   6.,   7.,   8.,   9.,  10.,  11.,  12.,  13.,  14.,  15.,  16.,\n",
       "         17.,  18.,  19.,  20.])"
      ]
     },
     "execution_count": 184,
     "metadata": {},
     "output_type": "execute_result"
    }
   ],
   "source": [
    "x_hstack = torch.hstack([x, x])\n",
    "x_hstack"
   ]
  },
  {
   "cell_type": "code",
   "execution_count": 185,
   "metadata": {},
   "outputs": [],
   "source": [
    "x_reshaped = torch.tensor([[1, 2, 3, 4, 5, 6, 7, 8, 9, 10]])\n"
   ]
  },
  {
   "cell_type": "code",
   "execution_count": 186,
   "metadata": {},
   "outputs": [
    {
     "name": "stdout",
     "output_type": "stream",
     "text": [
      "tensor([[ 1,  2,  3,  4,  5,  6,  7,  8,  9, 10]])\n"
     ]
    }
   ],
   "source": [
    "print(x_reshaped)\n"
   ]
  },
  {
   "cell_type": "code",
   "execution_count": 187,
   "metadata": {},
   "outputs": [
    {
     "name": "stdout",
     "output_type": "stream",
     "text": [
      "torch.Size([1, 10])\n"
     ]
    }
   ],
   "source": [
    "print(x_reshaped.shape)\n"
   ]
  },
  {
   "cell_type": "code",
   "execution_count": 188,
   "metadata": {},
   "outputs": [
    {
     "name": "stdout",
     "output_type": "stream",
     "text": [
      "tensor([ 1,  2,  3,  4,  5,  6,  7,  8,  9, 10])\n"
     ]
    }
   ],
   "source": [
    "x_reshaped = x_reshaped.squeeze()\n",
    "print(x_reshaped)\n"
   ]
  },
  {
   "cell_type": "code",
   "execution_count": 189,
   "metadata": {},
   "outputs": [
    {
     "name": "stdout",
     "output_type": "stream",
     "text": [
      "torch.Size([10])\n"
     ]
    }
   ],
   "source": [
    "print(x_reshaped.shape)\n"
   ]
  },
  {
   "cell_type": "code",
   "execution_count": 190,
   "metadata": {},
   "outputs": [
    {
     "name": "stdout",
     "output_type": "stream",
     "text": [
      "tensor([[ 1,  2,  3,  4,  5,  6,  7,  8,  9, 10]])\n"
     ]
    }
   ],
   "source": [
    "x_unsqueezed = x_reshaped.unsqueeze(dim=0)\n",
    "print(x_unsqueezed)"
   ]
  },
  {
   "cell_type": "code",
   "execution_count": 191,
   "metadata": {},
   "outputs": [
    {
     "name": "stdout",
     "output_type": "stream",
     "text": [
      "tensor([[ 1],\n",
      "        [ 2],\n",
      "        [ 3],\n",
      "        [ 4],\n",
      "        [ 5],\n",
      "        [ 6],\n",
      "        [ 7],\n",
      "        [ 8],\n",
      "        [ 9],\n",
      "        [10]])\n",
      "tensor([[ 1,  2,  3,  4,  5,  6,  7,  8,  9, 10]])\n"
     ]
    }
   ],
   "source": [
    "x_reshaped = x_reshaped.squeeze()\n",
    "x_reshaped = x_reshaped.unsqueeze(dim=1)\n",
    "x_permuted = x_reshaped.permute(1, 0)\n",
    "print(x_reshaped)\n",
    "print(x_permuted)"
   ]
  },
  {
   "cell_type": "code",
   "execution_count": 192,
   "metadata": {},
   "outputs": [
    {
     "name": "stdout",
     "output_type": "stream",
     "text": [
      "torch.Size([3, 256, 256])\n",
      "torch.Size([256, 256, 3])\n",
      "tensor(100.)\n"
     ]
    }
   ],
   "source": [
    "x_original = torch.rand(3,256,256)\n",
    "print(x_original.shape)\n",
    "\n",
    "x_original [0,0,0] = 100\n",
    "x_permuted = x_original.permute(1, 2, 0)\n",
    "print(x_permuted.shape)\n",
    "print(x_permuted[0,0,0])"
   ]
  },
  {
   "cell_type": "markdown",
   "metadata": {},
   "source": [
    "## indexing"
   ]
  },
  {
   "cell_type": "code",
   "execution_count": 209,
   "metadata": {},
   "outputs": [
    {
     "name": "stdout",
     "output_type": "stream",
     "text": [
      "tensor([[[1, 2, 3],\n",
      "         [4, 5, 6],\n",
      "         [7, 8, 9]]])\n",
      "tensor([1, 2, 3])\n",
      "tensor(1)\n",
      "tensor(8)\n",
      "tensor([[4, 5, 6]])\n",
      "tensor([2, 5, 8])\n",
      "tensor([5])\n",
      "tensor([1, 2, 3])\n",
      "tensor(9)\n",
      "tensor([3, 6, 9])\n"
     ]
    }
   ],
   "source": [
    "x = torch.arange(1, 10).reshape(1, 3, 3)\n",
    "print(x)\n",
    "print(x[0][0])\n",
    "print(x[0][0][0])\n",
    "print(x[0,2,1])\n",
    "\n",
    "print(x[:, 1])\n",
    "print(x[0, :, 1])\n",
    "print(x[:, 1, 1])\n",
    "print(x[0, 0, :])\n",
    "\n",
    "#index on x to return 9\n",
    "print(x[0, 2, 2])\n",
    "\n",
    "#index on x to return 3 6 9\n",
    "print(x[0, :, 2])"
   ]
  },
  {
   "cell_type": "markdown",
   "metadata": {},
   "source": [
    "## pythorch tensors and numpy\n",
    "\n",
    "Data in numpy -> tensor ; torch.from_numpy(ndarray)\n",
    "tensor -> ndarray ;   torch.Tensor.numpy()"
   ]
  },
  {
   "cell_type": "code",
   "execution_count": 216,
   "metadata": {},
   "outputs": [
    {
     "name": "stdout",
     "output_type": "stream",
     "text": [
      "tensor([1, 2, 3, 4, 5], dtype=torch.int32) torch.IntTensor\n",
      "[1 2 3 4 5] int32\n"
     ]
    }
   ],
   "source": [
    "import torch\n",
    "import numpy as np\n",
    "\n",
    "array = np.array([1, 2, 3, 4, 5])\n",
    "\n",
    "#convert numpy array to tensor\n",
    "tensor = torch.from_numpy(array)\n",
    "print(tensor, tensor.type())\n",
    "\n",
    "#convert tensor to numpy array\n",
    "array_back = tensor.numpy()\n",
    "print(array_back, array_back.dtype)"
   ]
  },
  {
   "cell_type": "code",
   "execution_count": 219,
   "metadata": {},
   "outputs": [
    {
     "name": "stdout",
     "output_type": "stream",
     "text": [
      "tensor([4, 5, 6, 7, 8], dtype=torch.int32)\n",
      "[4 5 6 7 8]\n"
     ]
    }
   ],
   "source": [
    "tensor += 1\n",
    "print(tensor)\n",
    "print(array_back)"
   ]
  },
  {
   "cell_type": "markdown",
   "metadata": {},
   "source": [
    "### Reproducbility (taking the random out of random)\n",
    "\n",
    "'start with random numbers -> tensor operations -> update random numbers time and time again'\n",
    "\n",
    "reduce the randomness, a concept of random seed"
   ]
  },
  {
   "cell_type": "code",
   "execution_count": 224,
   "metadata": {},
   "outputs": [
    {
     "name": "stdout",
     "output_type": "stream",
     "text": [
      "tensor([[0.8823, 0.9150, 0.3829, 0.9593],\n",
      "        [0.3904, 0.6009, 0.2566, 0.7936],\n",
      "        [0.9408, 0.1332, 0.9346, 0.5936]]) \n",
      " tensor([[0.8823, 0.9150, 0.3829, 0.9593],\n",
      "        [0.3904, 0.6009, 0.2566, 0.7936],\n",
      "        [0.9408, 0.1332, 0.9346, 0.5936]])\n",
      "tensor([[True, True, True, True],\n",
      "        [True, True, True, True],\n",
      "        [True, True, True, True]])\n"
     ]
    }
   ],
   "source": [
    "RANDOM_SEED = 42\n",
    "torch.manual_seed(RANDOM_SEED)\n",
    "random_tensor_a = torch.rand(3, 4)\n",
    "torch.manual_seed(RANDOM_SEED)\n",
    "random_tensor_b = torch.rand(3, 4)\n",
    "print(random_tensor_a,'\\n', random_tensor_b)\n",
    "print(random_tensor_a == random_tensor_b)"
   ]
  },
  {
   "cell_type": "markdown",
   "metadata": {},
   "source": [
    "## Running tensors and pytorch objects on GPU's\n",
    "\n",
    "well, not for my 7800XT, yet, so won't work"
   ]
  },
  {
   "cell_type": "code",
   "execution_count": 227,
   "metadata": {},
   "outputs": [
    {
     "data": {
      "text/plain": [
       "'cpu'"
      ]
     },
     "execution_count": 227,
     "metadata": {},
     "output_type": "execute_result"
    }
   ],
   "source": [
    "device = \"cuda\" if torch.cuda.is_available() else \"cpu\"\n",
    "device"
   ]
  },
  {
   "cell_type": "markdown",
   "metadata": {},
   "source": [
    "sadge"
   ]
  },
  {
   "cell_type": "code",
   "execution_count": 228,
   "metadata": {},
   "outputs": [],
   "source": [
    "tensor_on_gpu = torch.rand(3, 4, device=device)\n",
    "#well, no cuda device on my machine\n",
    "\n",
    "#if tensor is on gpu, cannot convert to numpy\n",
    "# to fix it, move tensor to cpu first\n",
    "#tensor_on_cpu = tensor_on_gpu.to('cpu').numpy()"
   ]
  },
  {
   "cell_type": "markdown",
   "metadata": {},
   "source": [
    "## Exercises from fundamentals\n",
    "\n",
    "     \n",
    "\n",
    "Documentation reading - A big part of deep learning (and learning to code in general) is getting familiar with the documentation of a certain framework you're using. We'll be using the PyTorch documentation a lot throughout the rest of this course. So I'd recommend spending 10-minutes reading the following (it's okay if you don't get some things for now, the focus is not yet full understanding, it's awareness). See the documentation on torch.Tensor and for torch.cuda.\n",
    "\n",
    "Create a random tensor with shape (7, 7).\n",
    "\n",
    "Perform a matrix multiplication on the tensor from 2 with another random tensor with shape (1, 7) (hint: you may have to transpose the second tensor).\n",
    "\n",
    "Set the random seed to 0 and do exercises 2 & 3 over again.\n",
    "\n",
    "Speaking of random seeds, we saw how to set it with torch.manual_seed() but is there a GPU equivalent? (hint: you'll need to look into the documentation for torch.cuda for this one). If there is, set the GPU random seed to 1234.\n",
    "\n",
    "Create two random tensors of shape (2, 3) and send them both to the GPU (you'll need access to a GPU for this). Set torch.manual_seed(1234) when creating the tensors (this doesn't have to be the GPU random seed).\n",
    "\n",
    "Perform a matrix multiplication on the tensors you created in 6 (again, you may have to adjust the shapes of one of the tensors).\n",
    "\n",
    "Find the maximum and minimum values of the output of 7.\n",
    "\n",
    "Find the maximum and minimum index values of the output of 7.\n",
    "\n",
    "Make a random tensor with shape (1, 1, 1, 10) and then create a new tensor with all the 1 dimensions removed to be left with a tensor of shape (10). Set the seed to 7 when you create it and print out the first tensor and it's shape as well as the second tensor and it's shape.\n"
   ]
  },
  {
   "cell_type": "code",
   "execution_count": 230,
   "metadata": {},
   "outputs": [
    {
     "name": "stdout",
     "output_type": "stream",
     "text": [
      "tensor([[0.0874, 0.0041, 0.1088, 0.1637, 0.7025, 0.6790, 0.9155],\n",
      "        [0.2418, 0.1591, 0.7653, 0.2979, 0.8035, 0.3813, 0.7860],\n",
      "        [0.1115, 0.2477, 0.6524, 0.6057, 0.3725, 0.7980, 0.8399],\n",
      "        [0.1374, 0.2331, 0.9578, 0.3313, 0.3227, 0.0162, 0.2137],\n",
      "        [0.6249, 0.4340, 0.1371, 0.5117, 0.1585, 0.0758, 0.2247],\n",
      "        [0.0624, 0.1816, 0.9998, 0.5944, 0.6541, 0.0337, 0.1716],\n",
      "        [0.3336, 0.5782, 0.0600, 0.2846, 0.2007, 0.5014, 0.3139]])\n",
      "torch.Size([7, 7])\n"
     ]
    }
   ],
   "source": [
    "rand_tensor = torch.rand(7,7)\n",
    "print(rand_tensor)\n",
    "print(rand_tensor.shape)"
   ]
  },
  {
   "cell_type": "code",
   "execution_count": 233,
   "metadata": {},
   "outputs": [
    {
     "data": {
      "text/plain": [
       "tensor([[1.4878],\n",
       "        [1.9067],\n",
       "        [1.7285],\n",
       "        [1.1695],\n",
       "        [0.6551],\n",
       "        [1.4879],\n",
       "        [0.6377]])"
      ]
     },
     "execution_count": 233,
     "metadata": {},
     "output_type": "execute_result"
    }
   ],
   "source": [
    "second_tensor = torch.rand(1,7)\n",
    "rand_tensor.matmul(second_tensor.T)"
   ]
  },
  {
   "cell_type": "code",
   "execution_count": 235,
   "metadata": {},
   "outputs": [
    {
     "data": {
      "text/plain": [
       "tensor([[1.5985],\n",
       "        [1.1173],\n",
       "        [1.2741],\n",
       "        [1.6838],\n",
       "        [0.8279],\n",
       "        [1.0347],\n",
       "        [1.2498]])"
      ]
     },
     "execution_count": 235,
     "metadata": {},
     "output_type": "execute_result"
    }
   ],
   "source": [
    "RAND_SEED = 0\n",
    "torch.manual_seed(RAND_SEED)\n",
    "rand_tensor = torch.rand(7,7)\n",
    "torch.manual_seed(RAND_SEED)\n",
    "second_tensor = torch.rand(1, 7)\n",
    "\n",
    "rand_tensor.matmul(second_tensor.T)"
   ]
  },
  {
   "cell_type": "code",
   "execution_count": 237,
   "metadata": {},
   "outputs": [
    {
     "name": "stdout",
     "output_type": "stream",
     "text": [
      "max_val: 0.9527381062507629\n",
      "max_idx: 26\n",
      "min_val: 0.022325754165649414\n",
      "min_idx: 12\n"
     ]
    }
   ],
   "source": [
    "max_val = rand_tensor.max()\n",
    "max_idx = rand_tensor.argmax()\n",
    "\n",
    "min_val = rand_tensor.min()\n",
    "min_idx = rand_tensor.argmin()\n",
    "\n",
    "\n",
    "\n",
    "print(f'max_val: {max_val}\\nmax_idx: {max_idx}\\nmin_val: {min_val}\\nmin_idx: {min_idx}')"
   ]
  },
  {
   "cell_type": "code",
   "execution_count": 238,
   "metadata": {},
   "outputs": [
    {
     "name": "stdout",
     "output_type": "stream",
     "text": [
      "tensor([[[[0.5349, 0.1988, 0.6592, 0.6569, 0.2328, 0.4251, 0.2071, 0.6297,\n",
      "           0.3653, 0.8513]]]]) torch.Size([1, 1, 1, 10])\n",
      "tensor([[[[0.5349, 0.1988, 0.6592, 0.6569, 0.2328, 0.4251, 0.2071, 0.6297,\n",
      "           0.3653, 0.8513]]]]) torch.Size([1, 1, 1, 10])\n"
     ]
    }
   ],
   "source": [
    "RAND_SEED = 7\n",
    "torch.manual_seed(RAND_SEED)\n",
    "\n",
    "rand_tensor = torch.rand(1,1,1,10)\n",
    "print(rand_tensor, rand_tensor.shape)\n",
    "rand_tensor.squeeze()\n",
    "print(rand_tensor, rand_tensor.shape)"
   ]
  }
 ],
 "metadata": {
  "kernelspec": {
   "display_name": "Python 3",
   "language": "python",
   "name": "python3"
  },
  "language_info": {
   "codemirror_mode": {
    "name": "ipython",
    "version": 3
   },
   "file_extension": ".py",
   "mimetype": "text/x-python",
   "name": "python",
   "nbconvert_exporter": "python",
   "pygments_lexer": "ipython3",
   "version": "3.12.1"
  }
 },
 "nbformat": 4,
 "nbformat_minor": 2
}
