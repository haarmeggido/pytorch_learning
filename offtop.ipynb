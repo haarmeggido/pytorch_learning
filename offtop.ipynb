{
 "cells": [
  {
   "cell_type": "code",
   "execution_count": 28,
   "metadata": {},
   "outputs": [
    {
     "data": {
      "text/plain": [
       "Text(0, 0.5, 'Probability')"
      ]
     },
     "execution_count": 28,
     "metadata": {},
     "output_type": "execute_result"
    },
    {
     "data": {
      "image/png": "[encoded data removed]",
      "text/plain": [
       "<Figure size 640x480 with 1 Axes>"
      ]
     },
     "metadata": {},
     "output_type": "display_data"
    }
   ],
   "source": [
    "test_samples = 100000\n",
    "\n",
    "import numpy as np\n",
    "import matplotlib.pyplot as plt\n",
    "\n",
    "def roll_stats():\n",
    "  d1 = np.random.randint(1, 7)\n",
    "  d2 = np.random.randint(1, 7)\n",
    "  d3 = np.random.randint(1, 7)\n",
    "  d4 = np.random.randint(1, 7)\n",
    "\n",
    "  rolls = [d1, d2, d3, d4]\n",
    "  rolls.sort(reverse=True)\n",
    "  \n",
    "  return sum(rolls[:3])\n",
    "\n",
    "results = [roll_stats() for _ in range(test_samples)]\n",
    "\n",
    "plt.hist(results, bins=range(3, 19), density=True, align='left', rwidth=0.8)\n",
    "plt.title('3d6 roll distribution')\n",
    "plt.xlabel('Roll')\n",
    "plt.ylabel('Probability')\n",
    "\n",
    "\n",
    "\n"
   ]
  },
  {
   "cell_type": "code",
   "execution_count": 29,
   "metadata": {},
   "outputs": [
    {
     "name": "stdout",
     "output_type": "stream",
     "text": [
      "Roll | Probability\n",
      "-----|------------\n",
      "  3  | 0.0008\n",
      "  4  | 0.0030\n",
      "  5  | 0.0079\n",
      "  6  | 0.0161\n",
      "  7  | 0.0291\n",
      "  8  | 0.0480\n",
      "  9  | 0.0696\n",
      " 10  | 0.0950\n",
      " 11  | 0.1139\n",
      " 12  | 0.1293\n",
      " 13  | 0.1336\n",
      " 14  | 0.1238\n",
      " 15  | 0.1014\n",
      " 16  | 0.0728\n",
      " 17  | 0.0404\n",
      " 18  | 0.0153\n"
     ]
    }
   ],
   "source": [
    "# table of probabilities\n",
    "probabilities = [results.count(i) / test_samples for i in range(3, 19)]\n",
    "print('Roll | Probability')\n",
    "print('-----|------------')\n",
    "for i, p in enumerate(probabilities):\n",
    "  print(f'{i+3:3}  | {p:.4f}')"
   ]
  },
  {
   "cell_type": "code",
   "execution_count": 32,
   "metadata": {},
   "outputs": [
    {
     "name": "stdout",
     "output_type": "stream",
     "text": [
      "Percentile | Roll\n",
      "-----------|-----\n",
      "         10 | 8\n",
      "         20 | 10\n",
      "         30 | 11\n",
      "         40 | 12\n",
      "         50 | 12\n",
      "         60 | 13\n",
      "         70 | 14\n",
      "         80 | 15\n",
      "         90 | 16\n"
     ]
    }
   ],
   "source": [
    "# percentile table\n",
    "\n",
    "print('Percentile | Roll')\n",
    "print('-----------|-----')\n",
    "for i in range(10, 100, 10):\n",
    "  print(f'{i:11} | {np.percentile(results, i):.0f}')"
   ]
  },
  {
   "cell_type": "code",
   "execution_count": 42,
   "metadata": {},
   "outputs": [
    {
     "name": "stdout",
     "output_type": "stream",
     "text": [
      "STR: 10, DEX: 13, CON: 12, INT: 13, WIS: 8, CHA: 14\n"
     ]
    }
   ],
   "source": [
    "class StatsTable:\n",
    "  def __init__(self, main_stat, secondary_stat, dump_stat):\n",
    "    rolls = [roll_stats() for _ in range(6)]\n",
    "    rolls.sort(reverse=True)\n",
    "\n",
    "    self.strength = rolls[0]\n",
    "    self.dexterity = rolls[1]\n",
    "    self.constitution = rolls[2]\n",
    "    self.intelligence = rolls[3]\n",
    "    self.wisdom = rolls[4]\n",
    "    self.charisma = rolls[5]\n",
    "\n",
    "\n",
    "\n",
    "class Character:\n",
    "  def __init__(self):\n",
    "    pass\n",
    "\n",
    "  def __str__(self):\n",
    "    return f'STR: {self.strength}, DEX: {self.dexterity}, CON: {self.constitution}, INT: {self.intelligence}, WIS: {self.wisdom}, CHA: {self.charisma}'\n",
    "  \n",
    "\n",
    "print(Character())"
   ]
  }
 ],
 "metadata": {
  "kernelspec": {
   "display_name": "Python 3",
   "language": "python",
   "name": "python3"
  },
  "language_info": {
   "codemirror_mode": {
    "name": "ipython",
    "version": 3
   },
   "file_extension": ".py",
   "mimetype": "text/x-python",
   "name": "python",
   "nbconvert_exporter": "python",
   "pygments_lexer": "ipython3",
   "version": "3.12.1"
  }
 },
 "nbformat": 4,
 "nbformat_minor": 2
}
