{
 "cells": [
  {
   "cell_type": "code",
   "execution_count": 2,
   "metadata": {},
   "outputs": [
    {
     "name": "stdout",
     "output_type": "stream",
     "text": [
      "directory data\\pizza_steak_sushi already exists\n",
      "Downloading pizza, steak, sushi data...\n",
      "Unzipping pizza, steak, sushi data...\n"
     ]
    }
   ],
   "source": [
    "import os\n",
    "import requests\n",
    "import zipfile\n",
    "from pathlib import Path\n",
    "\n",
    "# Setup path to data directory\n",
    "data_path = Path(\"data/\")\n",
    "image_path = data_path / \"pizza_steak_sushi\"\n",
    "\n",
    "if image_path.is_dir():\n",
    "  print(f'directory {image_path} already exists')\n",
    "else:\n",
    "  print(f'directory {image_path} does not exist')\n",
    "  image_path.mkdir(parents=True, exist_ok=True)\n",
    "\n",
    "#Download data\n",
    "with open(data_path / \"pizza_steak_sushi.zip\", \"wb\") as f:\n",
    "  request = requests.get(\"https://github.com/mrdbourke/pytorch-deep-learning/raw/main/data/pizza_steak_sushi.zip\")\n",
    "  print(\"Downloading pizza, steak, sushi data...\")\n",
    "  f.write(request.content)\n",
    "\n",
    "# Unzip data\n",
    "with zipfile.ZipFile(data_path / \"pizza_steak_sushi.zip\", \"r\") as zip_ref:\n",
    "  zip_ref.extractall(image_path)\n",
    "  print(\"Unzipping pizza, steak, sushi data...\")\n",
    "\n",
    "# Remove zip file\n",
    "os.remove(data_path / \"pizza_steak_sushi.zip\")\n"
   ]
  },
  {
   "cell_type": "code",
   "execution_count": 23,
   "metadata": {},
   "outputs": [],
   "source": [
    "# import data_setup.py\n",
    "from going_modular import data_setup\n",
    "import torchvision.transforms as transforms\n",
    "train_dir = image_path / \"train\"\n",
    "test_dir = image_path / \"test\"\n",
    "transform = transforms.Compose([transforms.Resize((64, 64)), transforms.ToTensor()])\n",
    "# Create dataloaders\n",
    "train_dataloader, test_dataloader, class_names = data_setup.create_dataloaders(train_dir, test_dir, transform, batch_size=32)"
   ]
  },
  {
   "cell_type": "code",
   "execution_count": 24,
   "metadata": {},
   "outputs": [],
   "source": [
    "import torch\n",
    "# Import model_builder.py\n",
    "from going_modular import model_builder\n",
    "device = \"cuda\" if torch.cuda.is_available() else \"cpu\"\n",
    "\n",
    "# Instantiate an instance of the model from the \"model_builder.py\" script\n",
    "torch.manual_seed(42)\n",
    "model = model_builder.TinyVGG(input_shape=3,\n",
    "                              hidden_units=10, \n",
    "                              output_shape=len(class_names)).to(device)"
   ]
  },
  {
   "cell_type": "code",
   "execution_count": 31,
   "metadata": {},
   "outputs": [
    {
     "name": "stderr",
     "output_type": "stream",
     "text": [
      "  5%|▌         | 1/20 [00:09<03:01,  9.53s/it]"
     ]
    },
    {
     "name": "stdout",
     "output_type": "stream",
     "text": [
      "Epoch: 1 | train_loss: 0.9261 | train_acc: 0.5078 | test_loss: 1.0257 | test_acc: 0.4953\n"
     ]
    },
    {
     "name": "stderr",
     "output_type": "stream",
     "text": [
      " 10%|█         | 2/20 [00:18<02:44,  9.16s/it]"
     ]
    },
    {
     "name": "stdout",
     "output_type": "stream",
     "text": [
      "Epoch: 2 | train_loss: 0.8392 | train_acc: 0.6719 | test_loss: 0.9804 | test_acc: 0.4025\n"
     ]
    },
    {
     "name": "stderr",
     "output_type": "stream",
     "text": [
      " 15%|█▌        | 3/20 [00:27<02:32,  8.96s/it]"
     ]
    },
    {
     "name": "stdout",
     "output_type": "stream",
     "text": [
      "Epoch: 3 | train_loss: 0.7625 | train_acc: 0.6328 | test_loss: 1.0266 | test_acc: 0.3920\n"
     ]
    },
    {
     "name": "stderr",
     "output_type": "stream",
     "text": [
      " 20%|██        | 4/20 [00:35<02:21,  8.83s/it]"
     ]
    },
    {
     "name": "stdout",
     "output_type": "stream",
     "text": [
      "Epoch: 4 | train_loss: 0.9101 | train_acc: 0.5547 | test_loss: 1.0369 | test_acc: 0.3617\n"
     ]
    },
    {
     "name": "stderr",
     "output_type": "stream",
     "text": [
      " 25%|██▌       | 5/20 [00:44<02:11,  8.78s/it]"
     ]
    },
    {
     "name": "stdout",
     "output_type": "stream",
     "text": [
      "Epoch: 5 | train_loss: 0.7696 | train_acc: 0.6875 | test_loss: 0.9552 | test_acc: 0.5350\n"
     ]
    },
    {
     "name": "stderr",
     "output_type": "stream",
     "text": [
      " 30%|███       | 6/20 [00:53<02:02,  8.73s/it]"
     ]
    },
    {
     "name": "stdout",
     "output_type": "stream",
     "text": [
      "Epoch: 6 | train_loss: 0.7481 | train_acc: 0.6680 | test_loss: 0.9770 | test_acc: 0.5246\n"
     ]
    },
    {
     "name": "stderr",
     "output_type": "stream",
     "text": [
      " 35%|███▌      | 7/20 [01:01<01:52,  8.68s/it]"
     ]
    },
    {
     "name": "stdout",
     "output_type": "stream",
     "text": [
      "Epoch: 7 | train_loss: 0.7689 | train_acc: 0.6875 | test_loss: 1.0203 | test_acc: 0.3920\n"
     ]
    },
    {
     "name": "stderr",
     "output_type": "stream",
     "text": [
      " 40%|████      | 8/20 [01:10<01:43,  8.67s/it]"
     ]
    },
    {
     "name": "stdout",
     "output_type": "stream",
     "text": [
      "Epoch: 8 | train_loss: 0.7642 | train_acc: 0.6602 | test_loss: 1.0501 | test_acc: 0.4328\n"
     ]
    },
    {
     "name": "stderr",
     "output_type": "stream",
     "text": [
      " 45%|████▌     | 9/20 [01:18<01:35,  8.65s/it]"
     ]
    },
    {
     "name": "stdout",
     "output_type": "stream",
     "text": [
      "Epoch: 9 | train_loss: 0.7792 | train_acc: 0.6992 | test_loss: 0.9972 | test_acc: 0.5152\n"
     ]
    },
    {
     "name": "stderr",
     "output_type": "stream",
     "text": [
      " 50%|█████     | 10/20 [01:27<01:26,  8.68s/it]"
     ]
    },
    {
     "name": "stdout",
     "output_type": "stream",
     "text": [
      "Epoch: 10 | train_loss: 0.7769 | train_acc: 0.6641 | test_loss: 1.0196 | test_acc: 0.4233\n"
     ]
    },
    {
     "name": "stderr",
     "output_type": "stream",
     "text": [
      " 55%|█████▌    | 11/20 [01:36<01:17,  8.65s/it]"
     ]
    },
    {
     "name": "stdout",
     "output_type": "stream",
     "text": [
      "Epoch: 11 | train_loss: 0.7763 | train_acc: 0.6094 | test_loss: 1.0484 | test_acc: 0.5142\n"
     ]
    },
    {
     "name": "stderr",
     "output_type": "stream",
     "text": [
      " 60%|██████    | 12/20 [01:45<01:10,  8.81s/it]"
     ]
    },
    {
     "name": "stdout",
     "output_type": "stream",
     "text": [
      "Epoch: 12 | train_loss: 0.7886 | train_acc: 0.5820 | test_loss: 0.9970 | test_acc: 0.5360\n"
     ]
    },
    {
     "name": "stderr",
     "output_type": "stream",
     "text": [
      " 65%|██████▌   | 13/20 [01:55<01:03,  9.13s/it]"
     ]
    },
    {
     "name": "stdout",
     "output_type": "stream",
     "text": [
      "Epoch: 13 | train_loss: 0.7504 | train_acc: 0.6758 | test_loss: 1.1314 | test_acc: 0.3722\n"
     ]
    },
    {
     "name": "stderr",
     "output_type": "stream",
     "text": [
      " 70%|███████   | 14/20 [02:04<00:54,  9.08s/it]"
     ]
    },
    {
     "name": "stdout",
     "output_type": "stream",
     "text": [
      "Epoch: 14 | train_loss: 0.8585 | train_acc: 0.5703 | test_loss: 1.0262 | test_acc: 0.4441\n"
     ]
    },
    {
     "name": "stderr",
     "output_type": "stream",
     "text": [
      " 75%|███████▌  | 15/20 [02:13<00:45,  9.11s/it]"
     ]
    },
    {
     "name": "stdout",
     "output_type": "stream",
     "text": [
      "Epoch: 15 | train_loss: 0.6693 | train_acc: 0.7500 | test_loss: 0.9583 | test_acc: 0.6042\n"
     ]
    },
    {
     "name": "stderr",
     "output_type": "stream",
     "text": [
      " 80%|████████  | 16/20 [02:22<00:36,  9.10s/it]"
     ]
    },
    {
     "name": "stdout",
     "output_type": "stream",
     "text": [
      "Epoch: 16 | train_loss: 0.7323 | train_acc: 0.7266 | test_loss: 0.9712 | test_acc: 0.5455\n"
     ]
    },
    {
     "name": "stderr",
     "output_type": "stream",
     "text": [
      " 85%|████████▌ | 17/20 [02:31<00:27,  9.05s/it]"
     ]
    },
    {
     "name": "stdout",
     "output_type": "stream",
     "text": [
      "Epoch: 17 | train_loss: 0.6501 | train_acc: 0.7070 | test_loss: 1.1129 | test_acc: 0.3513\n"
     ]
    },
    {
     "name": "stderr",
     "output_type": "stream",
     "text": [
      " 90%|█████████ | 18/20 [02:40<00:18,  9.04s/it]"
     ]
    },
    {
     "name": "stdout",
     "output_type": "stream",
     "text": [
      "Epoch: 18 | train_loss: 0.6989 | train_acc: 0.7148 | test_loss: 1.0724 | test_acc: 0.4640\n"
     ]
    },
    {
     "name": "stderr",
     "output_type": "stream",
     "text": [
      " 95%|█████████▌| 19/20 [02:49<00:09,  9.03s/it]"
     ]
    },
    {
     "name": "stdout",
     "output_type": "stream",
     "text": [
      "Epoch: 19 | train_loss: 0.6181 | train_acc: 0.7422 | test_loss: 1.0043 | test_acc: 0.5758\n"
     ]
    },
    {
     "name": "stderr",
     "output_type": "stream",
     "text": [
      "100%|██████████| 20/20 [02:58<00:00,  8.93s/it]"
     ]
    },
    {
     "name": "stdout",
     "output_type": "stream",
     "text": [
      "Epoch: 20 | train_loss: 0.7590 | train_acc: 0.6367 | test_loss: 1.0030 | test_acc: 0.5455\n"
     ]
    },
    {
     "name": "stderr",
     "output_type": "stream",
     "text": [
      "\n"
     ]
    },
    {
     "data": {
      "text/plain": [
       "{'train_loss': [0.9260763004422188,\n",
       "  0.8392278999090195,\n",
       "  0.7624672073870897,\n",
       "  0.9101058021187782,\n",
       "  0.7696358934044838,\n",
       "  0.7481166422367096,\n",
       "  0.7688781768083572,\n",
       "  0.764226958155632,\n",
       "  0.7791649028658867,\n",
       "  0.7769137173891068,\n",
       "  0.7762752622365952,\n",
       "  0.7885683104395866,\n",
       "  0.7503866218030453,\n",
       "  0.8585482537746429,\n",
       "  0.669327256269753,\n",
       "  0.7322880700230598,\n",
       "  0.6500514727085829,\n",
       "  0.698918703943491,\n",
       "  0.6181474742479622,\n",
       "  0.7589589059352875],\n",
       " 'train_acc': [0.5078125,\n",
       "  0.671875,\n",
       "  0.6328125,\n",
       "  0.5546875,\n",
       "  0.6875,\n",
       "  0.66796875,\n",
       "  0.6875,\n",
       "  0.66015625,\n",
       "  0.69921875,\n",
       "  0.6640625,\n",
       "  0.609375,\n",
       "  0.58203125,\n",
       "  0.67578125,\n",
       "  0.5703125,\n",
       "  0.75,\n",
       "  0.7265625,\n",
       "  0.70703125,\n",
       "  0.71484375,\n",
       "  0.7421875,\n",
       "  0.63671875],\n",
       " 'test_loss': [1.0257001916567485,\n",
       "  0.980378528436025,\n",
       "  1.0266047914822896,\n",
       "  1.036876380443573,\n",
       "  0.955206016699473,\n",
       "  0.9770080049832662,\n",
       "  1.0202856659889221,\n",
       "  1.0500722924868267,\n",
       "  0.9972185095151266,\n",
       "  1.0196258624394734,\n",
       "  1.0483611424763997,\n",
       "  0.9969802697499593,\n",
       "  1.1314351558685303,\n",
       "  1.0261553525924683,\n",
       "  0.9582611719767252,\n",
       "  0.9712357322374979,\n",
       "  1.1129287481307983,\n",
       "  1.0723883708318074,\n",
       "  1.004310627778371,\n",
       "  1.0029833714167278],\n",
       " 'test_acc': [0.49526515151515155,\n",
       "  0.40246212121212127,\n",
       "  0.3920454545454546,\n",
       "  0.36174242424242425,\n",
       "  0.5350378787878788,\n",
       "  0.524621212121212,\n",
       "  0.3920454545454546,\n",
       "  0.43276515151515155,\n",
       "  0.5151515151515151,\n",
       "  0.4232954545454546,\n",
       "  0.5142045454545454,\n",
       "  0.5359848484848485,\n",
       "  0.3721590909090909,\n",
       "  0.4441287878787879,\n",
       "  0.6041666666666666,\n",
       "  0.5454545454545454,\n",
       "  0.35132575757575757,\n",
       "  0.46401515151515155,\n",
       "  0.5757575757575758,\n",
       "  0.5454545454545454]}"
      ]
     },
     "execution_count": 31,
     "metadata": {},
     "output_type": "execute_result"
    }
   ],
   "source": [
    "# Import engine.py\n",
    "from going_modular import engine\n",
    "\n",
    "LOSS_FN = torch.nn.CrossEntropyLoss()\n",
    "OPTIMIZER = torch.optim.Adam(model.parameters(), lr=0.001)\n",
    "# Use train() by calling it from engine.py\n",
    "results = engine.train(model,train_dataloader, test_dataloader, epochs=20, device=device, loss_fn=LOSS_FN, optimizer=OPTIMIZER)"
   ]
  },
  {
   "cell_type": "code",
   "execution_count": 29,
   "metadata": {},
   "outputs": [
    {
     "name": "stdout",
     "output_type": "stream",
     "text": [
      "[INFO] Saving model to: model_checkpoints\\tiny_vgg.pth\n"
     ]
    }
   ],
   "source": [
    "# Import utils.py\n",
    "from going_modular import utils\n",
    "\n",
    "# Save a model to file\n",
    "utils.save_model(model=model, target_dir=\"models\", model_name=\"food_3_modular.pth\")"
   ]
  },
  {
   "cell_type": "code",
   "execution_count": 32,
   "metadata": {},
   "outputs": [
    {
     "name": "stdout",
     "output_type": "stream",
     "text": [
      "Writing going_modular/train.py\n"
     ]
    }
   ],
   "source": []
  }
 ],
 "metadata": {
  "kernelspec": {
   "display_name": "Python 3",
   "language": "python",
   "name": "python3"
  },
  "language_info": {
   "codemirror_mode": {
    "name": "ipython",
    "version": 3
   },
   "file_extension": ".py",
   "mimetype": "text/x-python",
   "name": "python",
   "nbconvert_exporter": "python",
   "pygments_lexer": "ipython3",
   "version": "3.12.1"
  }
 },
 "nbformat": 4,
 "nbformat_minor": 2
}
