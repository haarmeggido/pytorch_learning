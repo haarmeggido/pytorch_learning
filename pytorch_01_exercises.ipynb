{
 "cells": [
  {
   "cell_type": "code",
   "execution_count": 77,
   "metadata": {},
   "outputs": [],
   "source": [
    "#imports\n",
    "import torch\n",
    "import torch.nn as nn\n",
    "import numpy as np"
   ]
  },
  {
   "cell_type": "code",
   "execution_count": 78,
   "metadata": {},
   "outputs": [
    {
     "name": "stdout",
     "output_type": "stream",
     "text": [
      "tensor([[0.0000],\n",
      "        [0.0100],\n",
      "        [0.0200],\n",
      "        [0.0300],\n",
      "        [0.0400],\n",
      "        [0.0500],\n",
      "        [0.0600],\n",
      "        [0.0700],\n",
      "        [0.0800],\n",
      "        [0.0900],\n",
      "        [0.1000],\n",
      "        [0.1100],\n",
      "        [0.1200],\n",
      "        [0.1300],\n",
      "        [0.1400],\n",
      "        [0.1500],\n",
      "        [0.1600],\n",
      "        [0.1700],\n",
      "        [0.1800],\n",
      "        [0.1900],\n",
      "        [0.2000],\n",
      "        [0.2100],\n",
      "        [0.2200],\n",
      "        [0.2300],\n",
      "        [0.2400],\n",
      "        [0.2500],\n",
      "        [0.2600],\n",
      "        [0.2700],\n",
      "        [0.2800],\n",
      "        [0.2900],\n",
      "        [0.3000],\n",
      "        [0.3100],\n",
      "        [0.3200],\n",
      "        [0.3300],\n",
      "        [0.3400],\n",
      "        [0.3500],\n",
      "        [0.3600],\n",
      "        [0.3700],\n",
      "        [0.3800],\n",
      "        [0.3900],\n",
      "        [0.4000],\n",
      "        [0.4100],\n",
      "        [0.4200],\n",
      "        [0.4300],\n",
      "        [0.4400],\n",
      "        [0.4500],\n",
      "        [0.4600],\n",
      "        [0.4700],\n",
      "        [0.4800],\n",
      "        [0.4900],\n",
      "        [0.5000],\n",
      "        [0.5100],\n",
      "        [0.5200],\n",
      "        [0.5300],\n",
      "        [0.5400],\n",
      "        [0.5500],\n",
      "        [0.5600],\n",
      "        [0.5700],\n",
      "        [0.5800],\n",
      "        [0.5900],\n",
      "        [0.6000],\n",
      "        [0.6100],\n",
      "        [0.6200],\n",
      "        [0.6300],\n",
      "        [0.6400],\n",
      "        [0.6500],\n",
      "        [0.6600],\n",
      "        [0.6700],\n",
      "        [0.6800],\n",
      "        [0.6900],\n",
      "        [0.7000],\n",
      "        [0.7100],\n",
      "        [0.7200],\n",
      "        [0.7300],\n",
      "        [0.7400],\n",
      "        [0.7500],\n",
      "        [0.7600],\n",
      "        [0.7700],\n",
      "        [0.7800],\n",
      "        [0.7900],\n",
      "        [0.8000],\n",
      "        [0.8100],\n",
      "        [0.8200],\n",
      "        [0.8300],\n",
      "        [0.8400],\n",
      "        [0.8500],\n",
      "        [0.8600],\n",
      "        [0.8700],\n",
      "        [0.8800],\n",
      "        [0.8900],\n",
      "        [0.9000],\n",
      "        [0.9100],\n",
      "        [0.9200],\n",
      "        [0.9300],\n",
      "        [0.9400],\n",
      "        [0.9500],\n",
      "        [0.9600],\n",
      "        [0.9700],\n",
      "        [0.9800],\n",
      "        [0.9900]]) tensor([[0.9000],\n",
      "        [0.9030],\n",
      "        [0.9060],\n",
      "        [0.9090],\n",
      "        [0.9120],\n",
      "        [0.9150],\n",
      "        [0.9180],\n",
      "        [0.9210],\n",
      "        [0.9240],\n",
      "        [0.9270],\n",
      "        [0.9300],\n",
      "        [0.9330],\n",
      "        [0.9360],\n",
      "        [0.9390],\n",
      "        [0.9420],\n",
      "        [0.9450],\n",
      "        [0.9480],\n",
      "        [0.9510],\n",
      "        [0.9540],\n",
      "        [0.9570],\n",
      "        [0.9600],\n",
      "        [0.9630],\n",
      "        [0.9660],\n",
      "        [0.9690],\n",
      "        [0.9720],\n",
      "        [0.9750],\n",
      "        [0.9780],\n",
      "        [0.9810],\n",
      "        [0.9840],\n",
      "        [0.9870],\n",
      "        [0.9900],\n",
      "        [0.9930],\n",
      "        [0.9960],\n",
      "        [0.9990],\n",
      "        [1.0020],\n",
      "        [1.0050],\n",
      "        [1.0080],\n",
      "        [1.0110],\n",
      "        [1.0140],\n",
      "        [1.0170],\n",
      "        [1.0200],\n",
      "        [1.0230],\n",
      "        [1.0260],\n",
      "        [1.0290],\n",
      "        [1.0320],\n",
      "        [1.0350],\n",
      "        [1.0380],\n",
      "        [1.0410],\n",
      "        [1.0440],\n",
      "        [1.0470],\n",
      "        [1.0500],\n",
      "        [1.0530],\n",
      "        [1.0560],\n",
      "        [1.0590],\n",
      "        [1.0620],\n",
      "        [1.0650],\n",
      "        [1.0680],\n",
      "        [1.0710],\n",
      "        [1.0740],\n",
      "        [1.0770],\n",
      "        [1.0800],\n",
      "        [1.0830],\n",
      "        [1.0860],\n",
      "        [1.0890],\n",
      "        [1.0920],\n",
      "        [1.0950],\n",
      "        [1.0980],\n",
      "        [1.1010],\n",
      "        [1.1040],\n",
      "        [1.1070],\n",
      "        [1.1100],\n",
      "        [1.1130],\n",
      "        [1.1160],\n",
      "        [1.1190],\n",
      "        [1.1220],\n",
      "        [1.1250],\n",
      "        [1.1280],\n",
      "        [1.1310],\n",
      "        [1.1340],\n",
      "        [1.1370],\n",
      "        [1.1400],\n",
      "        [1.1430],\n",
      "        [1.1460],\n",
      "        [1.1490],\n",
      "        [1.1520],\n",
      "        [1.1550],\n",
      "        [1.1580],\n",
      "        [1.1610],\n",
      "        [1.1640],\n",
      "        [1.1670],\n",
      "        [1.1700],\n",
      "        [1.1730],\n",
      "        [1.1760],\n",
      "        [1.1790],\n",
      "        [1.1820],\n",
      "        [1.1850],\n",
      "        [1.1880],\n",
      "        [1.1910],\n",
      "        [1.1940],\n",
      "        [1.1970]])\n",
      "torch.Size([100, 1]) torch.Size([100, 1])\n"
     ]
    }
   ],
   "source": [
    "weight = 0.3\n",
    "bias = 0.9\n",
    "\n",
    "#generate the dunny data\n",
    "start = 0\n",
    "end = 1\n",
    "step = 0.01\n",
    "\n",
    "X = torch.arange(start, end, step).unsqueeze(dim=1)\n",
    "Y = weight * X + bias\n",
    "\n",
    "print(X,Y)\n",
    "print(X.shape, Y.shape)"
   ]
  },
  {
   "cell_type": "code",
   "execution_count": 79,
   "metadata": {},
   "outputs": [
    {
     "data": {
      "image/png": "[encoded data removed]",
      "text/plain": [
       "<Figure size 640x480 with 1 Axes>"
      ]
     },
     "metadata": {},
     "output_type": "display_data"
    }
   ],
   "source": [
    "#split into train and test data\n",
    "from sklearn.model_selection import train_test_split\n",
    "\n",
    "X_train, X_test, Y_train, Y_test = train_test_split(X, Y, test_size=0.2, random_state=42)\n",
    "\n",
    "#plot the data to see the distribution\n",
    "import matplotlib.pyplot as plt\n",
    "\n",
    "plt.scatter(X_train, Y_train, label='Train')\n",
    "plt.scatter(X_test, Y_test, label='Test')\n",
    "plt.legend()\n",
    "plt.show()\n"
   ]
  },
  {
   "cell_type": "code",
   "execution_count": 80,
   "metadata": {},
   "outputs": [],
   "source": [
    "class LinearRegression_3(nn.Module):\n",
    "    def __init__(self):\n",
    "        super().__init__()\n",
    "        self.linear_layer = nn.Linear(in_features=1, out_features=1)\n",
    "    \n",
    "    def forward(self, x):\n",
    "        return self.linear_layer(x)"
   ]
  },
  {
   "cell_type": "code",
   "execution_count": 81,
   "metadata": {},
   "outputs": [
    {
     "name": "stdout",
     "output_type": "stream",
     "text": [
      "OrderedDict({'linear_layer.weight': tensor([[-0.0971]]), 'linear_layer.bias': tensor([-0.3982])})\n"
     ]
    }
   ],
   "source": [
    "model_2 = LinearRegression_3()\n",
    "print(model_2.state_dict())"
   ]
  },
  {
   "cell_type": "code",
   "execution_count": 82,
   "metadata": {},
   "outputs": [
    {
     "name": "stdout",
     "output_type": "stream",
     "text": [
      "Epoch 0 Train Loss: 1.4996992349624634 Test Loss: 1.4736535549163818\n",
      "Epoch 100 Train Loss: 1.373944878578186 Test Loss: 1.3510710000991821\n",
      "Epoch 200 Train Loss: 1.2481896877288818 Test Loss: 1.2284877300262451\n",
      "Epoch 300 Train Loss: 1.1224339008331299 Test Loss: 1.1059038639068604\n",
      "Epoch 400 Train Loss: 0.9966780543327332 Test Loss: 0.983319878578186\n",
      "Epoch 500 Train Loss: 0.8709220886230469 Test Loss: 0.8607358932495117\n",
      "Epoch 600 Train Loss: 0.7451661825180054 Test Loss: 0.7381518483161926\n",
      "Epoch 700 Train Loss: 0.6194109320640564 Test Loss: 0.6155685186386108\n",
      "Epoch 800 Train Loss: 0.4936564564704895 Test Loss: 0.49298587441444397\n",
      "Epoch 900 Train Loss: 0.36790189146995544 Test Loss: 0.3704032599925995\n",
      "Epoch 1000 Train Loss: 0.24214737117290497 Test Loss: 0.24782061576843262\n",
      "Epoch 1100 Train Loss: 0.1163928285241127 Test Loss: 0.12523797154426575\n",
      "Epoch 1200 Train Loss: 0.05213860422372818 Test Loss: 0.057425737380981445\n",
      "Epoch 1300 Train Loss: 0.04432065784931183 Test Loss: 0.04901355132460594\n",
      "Epoch 1400 Train Loss: 0.0394892655313015 Test Loss: 0.04325301945209503\n",
      "Epoch 1500 Train Loss: 0.03474356234073639 Test Loss: 0.038051240146160126\n",
      "Epoch 1600 Train Loss: 0.029997846111655235 Test Loss: 0.03284347429871559\n",
      "Epoch 1700 Train Loss: 0.02525218203663826 Test Loss: 0.027641694992780685\n",
      "Epoch 1800 Train Loss: 0.020506422966718674 Test Loss: 0.02243393287062645\n",
      "Epoch 1900 Train Loss: 0.015760784968733788 Test Loss: 0.017232174053788185\n",
      "Epoch 2000 Train Loss: 0.01101500354707241 Test Loss: 0.012024393305182457\n",
      "Epoch 2100 Train Loss: 0.006269401405006647 Test Loss: 0.006822633557021618\n",
      "Epoch 2200 Train Loss: 0.0015235856408253312 Test Loss: 0.0016148656141012907\n",
      "Epoch 2229 Train Loss: 0.00031858013244345784 Test Loss: 0.0007578253862448037\n"
     ]
    }
   ],
   "source": [
    "_lr = 0.001\n",
    "loss_function = nn.L1Loss()\n",
    "optimizer = torch.optim.SGD(model_2.parameters(), lr=_lr)\n",
    "\n",
    "\n",
    "\n",
    "epochs = 5000\n",
    "#define the data arrays\n",
    "epoch_number = []\n",
    "losses = []\n",
    "test_losses = []\n",
    "\n",
    "for epoch in range(epochs):\n",
    "  model_2.train()\n",
    "  Y_pred = model_2(X_train)\n",
    "  loss = loss_function(Y_pred, Y_train)\n",
    "  optimizer.zero_grad()\n",
    "  loss.backward()\n",
    "  optimizer.step()\n",
    "\n",
    "  #testing\n",
    "\n",
    "  model_2.eval()\n",
    "  with torch.inference_mode():\n",
    "    Y_pred_test = model_2(X_test)\n",
    "    test_loss = loss_function(Y_pred_test, Y_test)\n",
    "\n",
    "  #append the data to the arrays\n",
    "  epoch_number.append(epoch)\n",
    "  losses.append(loss.item())\n",
    "  test_losses.append(test_loss.item())\n",
    "\n",
    "  if epoch % 100 == 0:\n",
    "    print(f'Epoch {epoch} Train Loss: {loss.item()} Test Loss: {test_loss.item()}')\n",
    "\n",
    "\n",
    "  # break the loop if the loss doesn't improve\n",
    "  if epoch > 3 and test_losses[-1] >= test_losses[-2] and test_losses[-2] >= test_losses[-3]:\n",
    "    print(f'Epoch {epoch} Train Loss: {loss.item()} Test Loss: {test_loss.item()}')\n",
    "    break"
   ]
  },
  {
   "cell_type": "code",
   "execution_count": 83,
   "metadata": {},
   "outputs": [
    {
     "data": {
      "image/png": "[encoded data removed]",
      "text/plain": [
       "<Figure size 640x480 with 1 Axes>"
      ]
     },
     "metadata": {},
     "output_type": "display_data"
    }
   ],
   "source": [
    "#plot the loss\n",
    "plt.plot(epoch_number, losses, label='Train Loss')\n",
    "plt.plot(epoch_number, test_losses, label='Test Loss')\n",
    "plt.legend()\n",
    "plt.show()"
   ]
  },
  {
   "cell_type": "code",
   "execution_count": null,
   "metadata": {},
   "outputs": [],
   "source": [
    "#save the model\n",
    "torch.save(model_2.state_dict(), 'model_2.pt')\n"
   ]
  },
  {
   "cell_type": "code",
   "execution_count": null,
   "metadata": {},
   "outputs": [],
   "source": [
    "#load the model\n",
    "model_2 = LinearRegression_3()\n",
    "model_2.load_state_dict(torch.load('model_2.pt'))"
   ]
  },
  {
   "cell_type": "code",
   "execution_count": 85,
   "metadata": {},
   "outputs": [
    {
     "data": {
      "image/png": "[encoded data removed]",
      "text/plain": [
       "<Figure size 640x480 with 1 Axes>"
      ]
     },
     "metadata": {},
     "output_type": "display_data"
    }
   ],
   "source": [
    "#predict\n",
    "model_2.eval()\n",
    "with torch.inference_mode():\n",
    "  Y_pred = model_2(X_test)\n",
    "\n",
    "plt.scatter(X_train, Y_train, label='True')\n",
    "plt.scatter(X_test, Y_test, label='True')\n",
    "plt.scatter(X_test, Y_pred.detach().numpy(), label='Predicted')\n",
    "plt.legend()\n",
    "plt.show()"
   ]
  },
  {
   "cell_type": "code",
   "execution_count": 87,
   "metadata": {},
   "outputs": [
    {
     "name": "stdout",
     "output_type": "stream",
     "text": [
      "tensor([5.7997e-07])\n"
     ]
    }
   ],
   "source": [
    "variancy = 0\n",
    "for point in zip(X_test, Y_test, Y_pred):\n",
    "  variancy += (point[1] - point[2]) ** 2\n",
    "\n",
    "print(variancy / len(Y_test))"
   ]
  }
 ],
 "metadata": {
  "kernelspec": {
   "display_name": "Python 3",
   "language": "python",
   "name": "python3"
  },
  "language_info": {
   "codemirror_mode": {
    "name": "ipython",
    "version": 3
   },
   "file_extension": ".py",
   "mimetype": "text/x-python",
   "name": "python",
   "nbconvert_exporter": "python",
   "pygments_lexer": "ipython3",
   "version": "3.12.1"
  }
 },
 "nbformat": 4,
 "nbformat_minor": 2
}
